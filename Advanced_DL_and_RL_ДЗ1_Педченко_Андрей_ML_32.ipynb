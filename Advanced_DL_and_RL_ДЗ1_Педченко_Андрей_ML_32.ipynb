{
  "nbformat": 4,
  "nbformat_minor": 0,
  "metadata": {
    "colab": {
      "name": "Advanced DL and RL -- ДЗ1 -- Педченко Андрей -- MADE-ML-32.ipynb",
      "provenance": [],
      "collapsed_sections": []
    },
    "kernelspec": {
      "name": "python3",
      "display_name": "Python 3"
    }
  },
  "cells": [
    {
      "cell_type": "markdown",
      "metadata": {
        "id": "d9vXGxiPcQzo"
      },
      "source": [
        "##Домашнее задание №1\n",
        "\n",
        "Педченко Андрей\n",
        "MADE-ML-32"
      ]
    },
    {
      "cell_type": "markdown",
      "metadata": {
        "id": "bLQignWUcaXV"
      },
      "source": [
        "###Часть первая, с блекджеком и стратегиями\n",
        "\n",
        "\n",
        "\n",
        "1.   Рассмотрим очень простую стратегию: говорить stand, если у нас на руках комбинация в 19, 20 или 21 очко, во всех остальных случаях говорить hit. Используйте методы Монте-Карло, чтобы оценить выигрыш от этой стратегии.\n",
        "2.   Реализуйте метод обучения с подкреплением без модели (можно Q-обучение, но рекомендую попробовать и другие, например Monte Carlo control) для обучения стратегии в блекджеке, используя окружение Blackjack-v0 из OpenAI Gym.\n",
        "2.   Сколько выигрывает казино у вашей стратегии? Нарисуйте графики среднего дохода вашего метода (усреднённого по крайней мере по 100000 раздач, а лучше больше) по ходу обучения. Попробуйте подобрать оптимальные гиперпараметры.\n",
        "\n",
        "\n"
      ]
    },
    {
      "cell_type": "code",
      "metadata": {
        "id": "akZwMCiuYXTq"
      },
      "source": [
        "import gym\n",
        "import numpy as np\n",
        "import random\n",
        "import matplotlib.pyplot as plt\n",
        "from matplotlib import pyplot\n",
        "from collections import defaultdict\n",
        "from functools import partial\n",
        "%matplotlib inline\n",
        "plt.style.use('ggplot')"
      ],
      "execution_count": 1,
      "outputs": []
    },
    {
      "cell_type": "code",
      "metadata": {
        "id": "Qumz4-5AeY9F"
      },
      "source": [
        "env = gym.make('Blackjack-v0')\n",
        "env.natural = True"
      ],
      "execution_count": 2,
      "outputs": []
    },
    {
      "cell_type": "markdown",
      "metadata": {
        "id": "Ol_SqmieyXyR"
      },
      "source": [
        "Рассмотрим очень простую стратегию"
      ]
    },
    {
      "cell_type": "code",
      "metadata": {
        "id": "EX_1Lj54iZDQ"
      },
      "source": [
        "def simple_policy(env):\n",
        "  rewards = []\n",
        "  for _ in range(500000):\n",
        "    state = env.reset()\n",
        "    final = False\n",
        "    while not final:\n",
        "      state, reward, final, _ = env.step(0 if state[0] > 18 else 1)    \n",
        "    rewards.append(reward)\n",
        "\n",
        "  return np.mean(rewards)"
      ],
      "execution_count": null,
      "outputs": []
    },
    {
      "cell_type": "code",
      "metadata": {
        "id": "xjHKVewFie4Q",
        "outputId": "248d890f-3704-4e9c-fbb7-39c8771bfb89",
        "colab": {
          "base_uri": "https://localhost:8080/"
        }
      },
      "source": [
        "simple_reward = simple_policy(env)\n",
        "print(\"Средняя награда при простой стратегии около\", simple_reward)"
      ],
      "execution_count": null,
      "outputs": [
        {
          "output_type": "stream",
          "text": [
            "Средняя награда при простой стратегии около -0.180026\n"
          ],
          "name": "stdout"
        }
      ]
    },
    {
      "cell_type": "markdown",
      "metadata": {
        "id": "vYqKKV-bx1pl"
      },
      "source": [
        "Используйте методы Монте-Карло, чтобы оценить выигрыш от этой стратегии"
      ]
    },
    {
      "cell_type": "code",
      "metadata": {
        "id": "H3b4-vstymu6"
      },
      "source": [
        "# Брал фрагменты кода из статьи https://habr.com/ru/company/otus/blog/477042/"
      ],
      "execution_count": null,
      "outputs": []
    },
    {
      "cell_type": "code",
      "metadata": {
        "id": "-EJC399qxzrH"
      },
      "source": [
        "def sample_policy(state):\n",
        "  score, dealer_score, usable_ace = state\n",
        "  return 0 if score >= 18 else 1\n",
        "\n",
        "def generate_episode(policy, env):\n",
        "    \n",
        "  states, actions, rewards = [], [], []\n",
        "  state = env.reset()\n",
        "  \n",
        "  while True:\n",
        "    states.append(state)\n",
        "    action = sample_policy(state)\n",
        "    actions.append(action)\n",
        "    state, reward, final, _ = env.step(action)\n",
        "    rewards.append(reward)\n",
        "\n",
        "    if final:\n",
        "      break\n",
        "              \n",
        "  return states, actions, rewards"
      ],
      "execution_count": null,
      "outputs": []
    },
    {
      "cell_type": "code",
      "metadata": {
        "id": "gC1qKtoMxz1Q"
      },
      "source": [
        "def first_visit_mc_prediction(policy, env, n_episodes):\n",
        "  \n",
        "  value_table = defaultdict(float)\n",
        "  N = defaultdict(int)\n",
        "\n",
        "  for _ in range(n_episodes):\n",
        "\n",
        "    states, _, rewards = generate_episode(policy, env)\n",
        "    returns = 0\n",
        "    \n",
        "    for t in range(len(states) - 1, -1, -1):\n",
        "      R = rewards[t]\n",
        "      S = states[t]\n",
        "      returns += R\n",
        "      \n",
        "      if S not in states[:t]:\n",
        "        N[S] += 1\n",
        "        value_table[S] += (returns - value_table[S]) / N[S]\n",
        "  \n",
        "  return value_table"
      ],
      "execution_count": null,
      "outputs": []
    },
    {
      "cell_type": "code",
      "metadata": {
        "id": "qhe9RGh7xz48",
        "outputId": "58e135aa-5ac7-4466-df86-8438b1fa281d",
        "colab": {
          "base_uri": "https://localhost:8080/"
        }
      },
      "source": [
        "value = first_visit_mc_prediction(sample_policy, env, n_episodes=500000)\n",
        "\n",
        "print('Различные состояния и их награды')\n",
        "for i in range(10):\n",
        "  print(value.popitem())"
      ],
      "execution_count": null,
      "outputs": [
        {
          "output_type": "stream",
          "text": [
            "Различные состояния и их награды\n",
            "((12, 1, True), -0.22274881516587683)\n",
            "((12, 2, True), 0.11737089201877937)\n",
            "((4, 2, False), -0.20746887966804978)\n",
            "((15, 2, True), -0.09176029962546815)\n",
            "((4, 7, False), -0.07177033492822964)\n",
            "((20, 7, True), 0.75886524822695)\n",
            "((15, 3, True), -0.10820895522388062)\n",
            "((19, 3, True), 0.40053404539385834)\n",
            "((7, 3, False), -0.3278327832783278)\n",
            "((15, 7, True), 0.072072072072072)\n"
          ],
          "name": "stdout"
        }
      ]
    },
    {
      "cell_type": "code",
      "metadata": {
        "id": "Bi6q4B-D2KAr",
        "outputId": "37339637-876f-4bfd-f14b-deaa6630d603",
        "colab": {
          "base_uri": "https://localhost:8080/"
        }
      },
      "source": [
        "rewards = []\n",
        "for k, v in value.items():\n",
        "  rewards.append(v)\n",
        "print(\"По Монте-Карло выигрыш от этой стратегии около\", np.mean(rewards))"
      ],
      "execution_count": null,
      "outputs": [
        {
          "output_type": "stream",
          "text": [
            "По Монте-Карло выигрыш от этой стратегии около -0.005321960235059259\n"
          ],
          "name": "stdout"
        }
      ]
    },
    {
      "cell_type": "markdown",
      "metadata": {
        "id": "S7xVK1tSyhlp"
      },
      "source": [
        "Реализуйте метод обучения с подкреплением без модели"
      ]
    },
    {
      "cell_type": "code",
      "metadata": {
        "id": "hzIdgkhXig0N"
      },
      "source": [
        "class QL:\n",
        "  def __init__(self, alpha=0.005, epsilon=0.55, gamma=0.75):\n",
        "    self.Q = {}\n",
        "    self.actions = [0, 1]\n",
        "    self.epsilon = epsilon\n",
        "    self.alpha = alpha\n",
        "    self.gamma = gamma\n",
        "      \n",
        "  def get_rewards_from_Q(self, state):\n",
        "    if state not in self.Q:\n",
        "      self.Q[state] = np.zeros(2)\n",
        "    return self.Q[state]\n",
        "  \n",
        "  def get_reward_for_action_from_Q(self, state, action):\n",
        "    return self.get_rewards_from_Q(state)[action]\n",
        "\n",
        "  def learn_episode(self, steps, reward):\n",
        "    for state, action in steps[::-1]:\n",
        "      reward = self.get_reward_for_action_from_Q(state, action) + self.alpha * (reward + self.gamma * np.max(self.Q[state]) - self.get_reward_for_action_from_Q(state, action))\n",
        "      self.Q[state][action] = reward"
      ],
      "execution_count": 3,
      "outputs": []
    },
    {
      "cell_type": "code",
      "metadata": {
        "id": "0kQE5lPPimk7"
      },
      "source": [
        "def q_learning_episode(env, ql):\n",
        "  state = env.reset()\n",
        "  final = False\n",
        "  steps = []\n",
        "  while not final:\n",
        "    if np.random.rand() <= ql.epsilon:\n",
        "      action = random.choice([0, 1])\n",
        "    else:\n",
        "      action = np.argmax(ql.get_rewards_from_Q(state))\n",
        "    steps.append((state, action))\n",
        "    state, reward, final, _ = env.step(action)    \n",
        "  return steps, reward"
      ],
      "execution_count": 4,
      "outputs": []
    },
    {
      "cell_type": "code",
      "metadata": {
        "id": "BCUXyC4SK5zZ"
      },
      "source": [
        "search_params = {}\n",
        "\n",
        "for e in np.linspace(0.05, 1, 10):\n",
        "  for a in np.linspace(0.000001, 0.001, 10):\n",
        "    for g in np.linspace(0.05, 1, 10):\n",
        "      ql = QL(alpha=a, epsilon=e, gamma=g)\n",
        "      reward_for_plot = []\n",
        "      cum_reward = 0\n",
        "      for n in range(3000):\n",
        "        steps, reward = q_learning_episode(env, ql)\n",
        "        ql.learn_episode(steps, reward)\n",
        "        cum_reward += reward\n",
        "        reward_for_plot.append(cum_reward/(n + 1))\n",
        "      search_params[(a, e, g)] = np.mean(reward_for_plot[100:])"
      ],
      "execution_count": null,
      "outputs": []
    },
    {
      "cell_type": "code",
      "metadata": {
        "id": "Tk-0MS_UMPkn",
        "outputId": "77f1b036-11a6-49b6-966c-fc6e6bae038c",
        "colab": {
          "base_uri": "https://localhost:8080/"
        }
      },
      "source": [
        "import operator\n",
        "a, e, g = max(search_params.items(), key=operator.itemgetter(1))[0]\n",
        "print('Наиболее оптимальные параметры')\n",
        "print(a, e, g)"
      ],
      "execution_count": null,
      "outputs": [
        {
          "output_type": "stream",
          "text": [
            "Наиболее оптимальные параметры\n",
            "0.001 0.05 1.0\n"
          ],
          "name": "stdout"
        }
      ]
    },
    {
      "cell_type": "code",
      "metadata": {
        "id": "d6OncAxsioeg"
      },
      "source": [
        "ql = QL(alpha=a, epsilon=e, gamma=g)\n",
        "reward_for_plot = []\n",
        "cum_reward = 0\n",
        "for n in range(500000):\n",
        "  steps, reward = q_learning_episode(env, ql)\n",
        "  ql.learn_episode(steps, reward)\n",
        "  cum_reward += reward\n",
        "  reward_for_plot.append(cum_reward/(n + 1))"
      ],
      "execution_count": null,
      "outputs": []
    },
    {
      "cell_type": "code",
      "metadata": {
        "id": "D0iKrJEairBR",
        "outputId": "8a1355c2-0b03-4fa1-ed91-689ba16d0178",
        "colab": {
          "base_uri": "https://localhost:8080/",
          "height": 517
        }
      },
      "source": [
        "plt.figure(figsize=(16, 8))\n",
        "plt.plot(reward_for_plot)\n",
        "plt.xlabel('Эпизоды обучения')\n",
        "plt.ylabel('Награда')\n",
        "plt.show()\n",
        "print(\"Средняя награда при Q-обучении около\", np.mean(reward_for_plot))"
      ],
      "execution_count": null,
      "outputs": [
        {
          "output_type": "display_data",
          "data": {
            "image/png": "[encoded data removed]",
            "text/plain": [
              "<Figure size 1152x576 with 1 Axes>"
            ]
          },
          "metadata": {
            "tags": []
          }
        },
        {
          "output_type": "stream",
          "text": [
            "Средняя награда при Q-обучении около -0.09327838150370146\n"
          ],
          "name": "stdout"
        }
      ]
    },
    {
      "cell_type": "markdown",
      "metadata": {
        "id": "V1tUvyBkOT4b"
      },
      "source": [
        "##Часть вторая, удвоенная\n",
        "\n",
        "В базовый блекджек, описанный в предыдущем разделе, обыграть казино вряд ли получится. Но, к счастью, на этом история не заканчивается. Описанные выше правила были упрощёнными, а на самом деле у игрока есть ещё и другие возможности. Реализовывать split может оказаться непросто, поэтому давайте ограничимся удвоением ставки. Итак, у игрока появляется дополнительное действие:\n",
        "double — удвоить ставку; при этом больше действий делать нельзя, игроку выдаётся ровно одна дополнительная карта, а выигрыш или проигрыш удваивается.\n",
        "\n",
        "4.   Реализуйте новый вариант блекджека на основе окружения Blackjack-v0 из OpenAI Gym, в котором разрешено удвоение ставки.\n",
        "5.   Реализуйте метод обучения с подкреплением без модели для этого варианта, постройте графики, аналогичные п.2.\n",
        "\n",
        "\n",
        "\n",
        "\n"
      ]
    },
    {
      "cell_type": "code",
      "metadata": {
        "id": "tR0In3w_ivhi"
      },
      "source": [
        "# Взято из оригинала https://github.com/openai/gym/blob/38a1f630dc9815a567aaf299ae5844c8f8b9a6fa/gym/envs/toy_text/blackjack.py\n",
        "# Добавлено 3-е действие\n",
        "\n",
        "from gym import spaces\n",
        "from gym.utils import seeding\n",
        "\n",
        "def cmp(a, b):\n",
        "  return float(a > b) - float(a < b)\n",
        "\n",
        "\n",
        "deck = [1, 2, 3, 4, 5, 6, 7, 8, 9, 10, 10, 10, 10]\n",
        "\n",
        "\n",
        "def draw_card(np_random):\n",
        "  return int(np_random.choice(deck))\n",
        "\n",
        "\n",
        "def draw_hand(np_random):\n",
        "  return [draw_card(np_random), draw_card(np_random)]\n",
        "\n",
        "\n",
        "def usable_ace(hand):  # Does this hand have a usable ace?\n",
        "  return 1 in hand and sum(hand) + 10 <= 21\n",
        "\n",
        "\n",
        "def sum_hand(hand):  # Return current hand total\n",
        "  if usable_ace(hand):\n",
        "    return sum(hand) + 10\n",
        "  return sum(hand)\n",
        "\n",
        "\n",
        "def is_bust(hand):  # Is this hand a bust?\n",
        "  return sum_hand(hand) > 21\n",
        "\n",
        "\n",
        "def score(hand):  # What is the score of this hand (0 if bust)\n",
        "  return 0 if is_bust(hand) else sum_hand(hand)\n",
        "\n",
        "\n",
        "def is_natural(hand):  # Is this hand a natural blackjack?\n",
        "  return sorted(hand) == [1, 10]\n",
        "\n",
        "\n",
        "class DoubleBlackjackEnv(gym.Env):\n",
        "\n",
        "  def __init__(self, natural=False):\n",
        "    self.action_space = spaces.Discrete(3)\n",
        "    self.observation_space = spaces.Tuple((\n",
        "      spaces.Discrete(32),\n",
        "      spaces.Discrete(11),\n",
        "      spaces.Discrete(2)))\n",
        "    self.seed()\n",
        "    self.natural = natural\n",
        "    self.reset()\n",
        "\n",
        "  def seed(self, seed=None):\n",
        "    self.np_random, seed = seeding.np_random(seed)\n",
        "    return [seed]\n",
        "\n",
        "  def step(self, action):\n",
        "    assert self.action_space.contains(action)\n",
        "    if action == 1:  # hit: add a card to players hand and return\n",
        "      self.player.append(draw_card(self.np_random))\n",
        "      if is_bust(self.player):\n",
        "        done = True\n",
        "        reward = -1.\n",
        "      else:\n",
        "        done = False\n",
        "        reward = 0.\n",
        "\n",
        "    elif action == 0:  # stick: play out the dealers hand, and score\n",
        "      done = True\n",
        "      while sum_hand(self.dealer) < 17:\n",
        "        self.dealer.append(draw_card(self.np_random))\n",
        "      reward = cmp(score(self.player), score(self.dealer))\n",
        "      if self.natural and is_natural(self.player) and reward == 1.:\n",
        "        reward = 1.5\n",
        "\n",
        "    elif action == 2:\n",
        "      self.player.append(draw_card(self.np_random))\n",
        "      done = True\n",
        "      while sum_hand(self.dealer) < 17:\n",
        "        self.dealer.append(draw_card(self.np_random))\n",
        "      reward = cmp(score(self.player), score(self.dealer))\n",
        "      if self.natural and is_natural(self.player) and reward == 1.:\n",
        "        reward = 1.5\n",
        "      reward *= 2\n",
        "\n",
        "    return self._get_obs(), reward, done, {}\n",
        "\n",
        "  def _get_obs(self):\n",
        "    return (sum_hand(self.player), self.dealer[0], usable_ace(self.player))\n",
        "\n",
        "  def reset(self):\n",
        "    self.dealer = draw_hand(self.np_random)\n",
        "    self.player = draw_hand(self.np_random)\n",
        "    return self._get_obs()"
      ],
      "execution_count": null,
      "outputs": []
    },
    {
      "cell_type": "code",
      "metadata": {
        "id": "BuwpSDcbBc1-"
      },
      "source": [
        "# Добавлено третье действие\n",
        "\n",
        "class QL:\n",
        "  def __init__(self, alpha=0.005, epsilon=0.55, gamma=0.75):\n",
        "    self.Q = {}\n",
        "    self.actions = [0, 1, 2]\n",
        "    self.epsilon = epsilon\n",
        "    self.alpha = alpha\n",
        "    self.gamma = gamma\n",
        "      \n",
        "  def get_rewards_from_Q(self, state):\n",
        "    if state not in self.Q:\n",
        "      self.Q[state] = np.zeros(3)\n",
        "    return self.Q[state]\n",
        "  \n",
        "  def get_reward_for_action_from_Q(self, state, action):\n",
        "    return self.get_rewards_from_Q(state)[action]\n",
        "\n",
        "  def learn_episode(self, steps, reward):\n",
        "    for state, action in steps[::-1]:\n",
        "      reward = self.get_reward_for_action_from_Q(state, action) + self.alpha * (reward + self.gamma * np.max(self.Q[state]) - self.get_reward_for_action_from_Q(state, action))\n",
        "      self.Q[state][action] = reward"
      ],
      "execution_count": 13,
      "outputs": []
    },
    {
      "cell_type": "code",
      "metadata": {
        "id": "CdiAKYssbw-i"
      },
      "source": [
        "# Добавлено третье действие\n",
        "\n",
        "def q_learning_episode(env, ql):\n",
        "  state = env.reset()\n",
        "  final = False\n",
        "  steps = []\n",
        "  while not final:\n",
        "    if np.random.rand() <= ql.epsilon:\n",
        "      action = random.choice([0, 1, 2])\n",
        "    else:\n",
        "      action = np.argmax(ql.get_rewards_from_Q(state))\n",
        "    steps.append((state, action))\n",
        "    state, reward, final, _ = env.step(action)    \n",
        "  return steps, reward"
      ],
      "execution_count": null,
      "outputs": []
    },
    {
      "cell_type": "code",
      "metadata": {
        "id": "xj7YQk-jg-Zq"
      },
      "source": [
        "env = DoubleBlackjackEnv()\n",
        "env.natural = True"
      ],
      "execution_count": null,
      "outputs": []
    },
    {
      "cell_type": "code",
      "metadata": {
        "id": "-cYcNcXNhX2U",
        "outputId": "1845f295-c8c6-4423-aca7-c83faaa94003",
        "colab": {
          "base_uri": "https://localhost:8080/"
        }
      },
      "source": [
        "search_params = {}\n",
        "\n",
        "for e in np.linspace(0.05, 1, 10):\n",
        "  for a in np.linspace(0.000001, 0.001, 10):\n",
        "    for g in np.linspace(0.05, 1, 10):\n",
        "      ql = QL(alpha=a, epsilon=e, gamma=g)\n",
        "      reward_for_plot = []\n",
        "      cum_reward = 0\n",
        "      for n in range(3000):\n",
        "        steps, reward = q_learning_episode(env, ql)\n",
        "        ql.learn_episode(steps, reward)\n",
        "        cum_reward += reward\n",
        "        reward_for_plot.append(cum_reward/(n + 1))\n",
        "      search_params[(a, e, g)] = np.mean(reward_for_plot[100:])\n",
        "\n",
        "a, e, g = max(search_params.items(), key=operator.itemgetter(1))[0]\n",
        "print('Наиболее оптимальные параметры')\n",
        "print(a, e, g)"
      ],
      "execution_count": null,
      "outputs": [
        {
          "output_type": "stream",
          "text": [
            "Наиболее оптимальные параметры\n",
            "0.0004450000000000001 0.05 0.6833333333333333\n"
          ],
          "name": "stdout"
        }
      ]
    },
    {
      "cell_type": "code",
      "metadata": {
        "id": "zQHioDlthZ3G",
        "outputId": "d6edd505-bc6e-43b4-9e40-1b77c6924ed4",
        "colab": {
          "base_uri": "https://localhost:8080/",
          "height": 517
        }
      },
      "source": [
        "ql = QL(alpha=a, epsilon=e, gamma=g)\n",
        "reward_for_plot = []\n",
        "cum_reward = 0\n",
        "for n in range(500000):\n",
        "  steps, reward = q_learning_episode(env, ql)\n",
        "  ql.learn_episode(steps, reward)\n",
        "  cum_reward += reward\n",
        "  reward_for_plot.append(cum_reward/(n + 1))\n",
        "\n",
        "plt.figure(figsize=(16, 8))\n",
        "plt.plot(reward_for_plot)\n",
        "plt.xlabel('Эпизоды обучения')\n",
        "plt.ylabel('Награда')\n",
        "plt.show()\n",
        "print(\"Средняя награда при Q-обучении с удвоением ставки около\", np.mean(reward_for_plot))"
      ],
      "execution_count": null,
      "outputs": [
        {
          "output_type": "display_data",
          "data": {
            "image/png": "[encoded data removed]",
            "text/plain": [
              "<Figure size 1152x576 with 1 Axes>"
            ]
          },
          "metadata": {
            "tags": []
          }
        },
        {
          "output_type": "stream",
          "text": [
            "Средняя награда при Q-обучении с удвоением ставки около -0.10945998851078943\n"
          ],
          "name": "stdout"
        }
      ]
    },
    {
      "cell_type": "markdown",
      "metadata": {
        "id": "hcxiTBa2irOJ"
      },
      "source": [
        "Практически без изменений"
      ]
    },
    {
      "cell_type": "markdown",
      "metadata": {
        "id": "CPJNJfv2izPN"
      },
      "source": [
        "##Часть третья, в главной роли — Дастин Хоффман\n",
        "\n",
        "А теперь давайте вспомним, как играют в блекджек настоящие профессионалы. Дело в том, что в оффлайн-казино обычно не перемешивают колоду после каждой раздачи — это слишком замедляло бы игру. После раздачи карты просто раздаются дальше с верха колоды до тех пор, пока карт не останется слишком мало, и только тогда колода перемешивается; давайте для определённости считать, что наше казино будет перемешивать колоду, в которой осталось меньше 15 карт.\n",
        "Думаю, у вас уже возникла в голове эта картинка:\n",
        "\n",
        "Действительно, если вы будете запоминать, какие карты уже вышли, у вас будет информация о том, какие карты ещё остались, а это позволяет лучше понять, когда нужно удваивать ставку или делать split, а когда лучше не стоит. В настоящем казино могут раздавать карты сразу из нескольких колод, и заслуга Rain Man’а была в том, что он смог считать карты в шести колодах одновременно. Но мы с вами вооружены компьютерами, так что подсчёт можно считать автоматическим.\n",
        "\n",
        "\n",
        "6.   Реализуйте вариант окружения Blackjack-v0 из предыдущей части (с удвоением), в котором игрок имеет возможность “считать карты” в колоде. Это можно сделать разными способами; возможно, вам поможет статья википедии о блекджеке (а возможно, и нет).\n",
        "7.   Реализуйте метод обучения с подкреплением без модели для этого варианта, постройте графики, аналогичные п.2.\n",
        "\n",
        "\n"
      ]
    },
    {
      "cell_type": "code",
      "metadata": {
        "id": "idGZXt-4hbo5"
      },
      "source": [
        "# Взято из оригинала https://github.com/openai/gym/blob/38a1f630dc9815a567aaf299ae5844c8f8b9a6fa/gym/envs/toy_text/blackjack.py\n",
        "# Добавлен подсчет\n",
        "\n",
        "from gym import spaces\n",
        "from gym.utils import seeding\n",
        "\n",
        "def cmp(a, b):\n",
        "  return float(a > b) - float(a < b)\n",
        "\n",
        "\n",
        "# deck  = [1, 2, 3, 4, 5, 6, 7, 8, 9, 10, 10, 10, 10]\n",
        "\n",
        "# На основе методики подсчета из вики https://ru.wikipedia.org/wiki/%D0%91%D0%BB%D1%8D%D0%BA%D0%B4%D0%B6%D0%B5%D0%BA\n",
        "\n",
        "def get_score(x):\n",
        "  score = 0\n",
        "  if x in [2, 3, 4, 5, 6]:\n",
        "    score = 1\n",
        "  elif x in [1, 10]:\n",
        "    score = -1\n",
        "  return score\n",
        "\n",
        "# def get_score(x):\n",
        "#   score = 0\n",
        "#   if x in [2, 7]:\n",
        "#     score = 0.5\n",
        "#   elif x in [3, 4, 6]:\n",
        "#     score = 1\n",
        "#   elif x in [5]:\n",
        "#     score = 1.5\n",
        "#   elif x in [9]:\n",
        "#     score = -0.5\n",
        "#   elif x in [1, 10]:\n",
        "#     score = -1\n",
        "#   return score\n",
        "\n",
        "# def draw_card(np_random):\n",
        "#   return int(np_random.choice(deck))\n",
        "\n",
        "\n",
        "# def draw_hand(np_random):\n",
        "#   return [draw_card(np_random), draw_card(np_random)]\n",
        "\n",
        "\n",
        "def usable_ace(hand):  # Does this hand have a usable ace?\n",
        "  return 1 in hand and sum(hand) + 10 <= 21\n",
        "\n",
        "\n",
        "def sum_hand(hand):  # Return current hand total\n",
        "  if usable_ace(hand):\n",
        "    return sum(hand) + 10\n",
        "  return sum(hand)\n",
        "\n",
        "\n",
        "def is_bust(hand):  # Is this hand a bust?\n",
        "  return sum_hand(hand) > 21\n",
        "\n",
        "\n",
        "def score(hand):  # What is the score of this hand (0 if bust)\n",
        "  return 0 if is_bust(hand) else sum_hand(hand)\n",
        "\n",
        "\n",
        "def is_natural(hand):  # Is this hand a natural blackjack?\n",
        "  return sorted(hand) == [1, 10]\n",
        "\n",
        "\n",
        "class CountingDoubleBlackjackEnv(gym.Env):\n",
        "\n",
        "  def __init__(self, natural=False):\n",
        "    self.action_space = spaces.Discrete(3)\n",
        "    self.observation_space = spaces.Tuple((\n",
        "      spaces.Discrete(32),\n",
        "      spaces.Discrete(11),\n",
        "      spaces.Discrete(2),\n",
        "      spaces.Discrete(20)))\n",
        "    self.seed()\n",
        "    self.deck = [1, 2, 3, 4, 5, 6, 7, 8, 9, 10, 10, 10, 10] * 4\n",
        "    random.shuffle(self.deck)\n",
        "    self.count = 0\n",
        "    self.natural = natural\n",
        "    self.reset()\n",
        "\n",
        "  def seed(self, seed=None):\n",
        "    self.np_random, seed = seeding.np_random(seed)\n",
        "    return [seed]\n",
        "\n",
        "# Кажется нечестным в этом окружении, что карты достаются рандомно из оставшейся колоды,\n",
        "# поэтому делаю, чтобы при инициализации колода один раз тасовалась, и дальше сдавалась всегда первая карта сверху\n",
        "\n",
        "  def draw_card(self, np_random):\n",
        "    card = self.deck[0]\n",
        "    self.deck.remove(card)\n",
        "    return card\n",
        "\n",
        "  def draw_hand(self, np_random):\n",
        "    return [self.draw_card(np_random), self.draw_card(np_random)]\n",
        "\n",
        "  def count_card(self, card):\n",
        "    self.count += get_score(card) \n",
        "\n",
        "  def step(self, action):\n",
        "    assert self.action_space.contains(action)\n",
        "    if action == 1:  # hit: add a card to players hand and return\n",
        "      card = self.draw_card(self.np_random)\n",
        "      self.count_card(card)\n",
        "      self.player.append(card)\n",
        "      if is_bust(self.player):\n",
        "        done = True\n",
        "        reward = -1.\n",
        "      else:\n",
        "        done = False\n",
        "        reward = 0.\n",
        "\n",
        "    elif action == 0:  # stick: play out the dealers hand, and score\n",
        "      done = True\n",
        "      while sum_hand(self.dealer) < 17:\n",
        "        self.dealer.append(self.draw_card(self.np_random))\n",
        "      for card in self.dealer[1:]:\n",
        "        self.count_card(card)\n",
        "      reward = cmp(score(self.player), score(self.dealer))\n",
        "      if self.natural and is_natural(self.player) and reward == 1.:\n",
        "        reward = 1.5\n",
        "\n",
        "    else:\n",
        "      card = self.draw_card(self.np_random)\n",
        "      self.count_card(card)\n",
        "      self.player.append(card)\n",
        "      done = True\n",
        "      while sum_hand(self.dealer) < 17:\n",
        "        self.dealer.append(self.draw_card(self.np_random))\n",
        "      for card in self.dealer[1:]:\n",
        "        self.count_card(card)\n",
        "      reward = cmp(score(self.player), score(self.dealer))\n",
        "      if self.natural and is_natural(self.player) and reward == 1.:\n",
        "        reward = 1.5\n",
        "      reward *= 2\n",
        "\n",
        "    return self._get_obs(), reward, done, {}\n",
        "\n",
        "  def _get_obs(self):\n",
        "    return (sum_hand(self.player), self.dealer[0], usable_ace(self.player), self.count)\n",
        "\n",
        "  def reset(self):\n",
        "    if len(self.deck) < 15:\n",
        "      self.deck = [1, 2, 3, 4, 5, 6, 7, 8, 9, 10, 10, 10, 10] * 4\n",
        "      random.shuffle(self.deck)\n",
        "      self.count = 0\n",
        "    self.dealer = self.draw_hand(self.np_random)\n",
        "    self.player = self.draw_hand(self.np_random)\n",
        "    self.count_card(self.dealer[0])\n",
        "    self.count_card(self.player[0])\n",
        "    self.count_card(self.player[1])\n",
        "    return self._get_obs()"
      ],
      "execution_count": 110,
      "outputs": []
    },
    {
      "cell_type": "code",
      "metadata": {
        "id": "7S6Yo0mmbPBS"
      },
      "source": [
        "# Добавлена проверка счетчика\n",
        "# Тут я разные условия выставлял, но казино все равно не удается обыграть\n",
        "# С текущими условиями был достигнут наилучший результат\n",
        "\n",
        "def q_learning_episode(env, ql):\n",
        "  state = env.reset()\n",
        "  final = False\n",
        "  steps = []\n",
        "  while not final:\n",
        "    if env.count > 4:\n",
        "      action = 2\n",
        "    elif env.count < -3:\n",
        "      action = 0\n",
        "    else:\n",
        "      action = np.argmax(ql.get_rewards_from_Q(state))\n",
        "    steps.append((state, action))\n",
        "    state, reward, final, _ = env.step(action)    \n",
        "  return steps, reward\n",
        "\n",
        "# def q_learning_episode(env, ql):\n",
        "#   state = env.reset()\n",
        "#   final = False\n",
        "#   steps = []\n",
        "#   while not final:\n",
        "#     if env.count > 3:\n",
        "#       action = 2\n",
        "#     else:\n",
        "#       action = np.argmax(ql.get_rewards_from_Q(state))\n",
        "#     steps.append((state, action))\n",
        "#     state, reward, final, _ = env.step(action)    \n",
        "#   return steps, reward"
      ],
      "execution_count": 129,
      "outputs": []
    },
    {
      "cell_type": "code",
      "metadata": {
        "id": "GkaAgbuzU9bq"
      },
      "source": [
        "env = CountingDoubleBlackjackEnv()\n",
        "env.natural = True"
      ],
      "execution_count": 130,
      "outputs": []
    },
    {
      "cell_type": "code",
      "metadata": {
        "id": "FgxsuJFNcj80",
        "outputId": "d7d595ee-89dc-4fef-a9ce-994aaa3798d4",
        "colab": {
          "base_uri": "https://localhost:8080/"
        }
      },
      "source": [
        "search_params = {}\n",
        "\n",
        "for e in np.linspace(0.05, 1, 10):\n",
        "  for a in np.linspace(0.000001, 0.001, 10):\n",
        "    for g in np.linspace(0.05, 1, 10):\n",
        "      ql = QL(alpha=a, epsilon=e, gamma=g)\n",
        "      reward_for_plot = []\n",
        "      cum_reward = 0\n",
        "      for n in range(3000):\n",
        "        steps, reward = q_learning_episode(env, ql)\n",
        "        ql.learn_episode(steps, reward)\n",
        "        cum_reward += reward\n",
        "        reward_for_plot.append(cum_reward/(n + 1))\n",
        "      search_params[(a, e, g)] = np.mean(reward_for_plot[100:])\n",
        "\n",
        "a, e, g = max(search_params.items(), key=operator.itemgetter(1))[0]\n",
        "print('Наиболее оптимальные параметры')\n",
        "print(a, e, g)"
      ],
      "execution_count": 96,
      "outputs": [
        {
          "output_type": "stream",
          "text": [
            "Наиболее оптимальные параметры\n",
            "0.00022300000000000003 0.5777777777777778 1.0\n"
          ],
          "name": "stdout"
        }
      ]
    },
    {
      "cell_type": "code",
      "metadata": {
        "id": "nBcju460ctA_",
        "outputId": "dc4ae601-ac58-46df-b333-efb68284114e",
        "colab": {
          "base_uri": "https://localhost:8080/",
          "height": 517
        }
      },
      "source": [
        "ql = QL(alpha=a, epsilon=e, gamma=g)\n",
        "reward_for_plot = []\n",
        "cum_reward = 0\n",
        "for n in range(500000):\n",
        "  steps, reward = q_learning_episode(env, ql)\n",
        "  ql.learn_episode(steps, reward)\n",
        "  cum_reward += reward\n",
        "  reward_for_plot.append(cum_reward/(n + 1))\n",
        "\n",
        "plt.figure(figsize=(16, 8))\n",
        "plt.plot(reward_for_plot)\n",
        "plt.xlabel('Эпизоды обучения')\n",
        "plt.ylabel('Награда')\n",
        "plt.show()\n",
        "print(\"Средняя награда при Q-обучении с удвоением ставки и подсчетом около\", np.mean(reward_for_plot))"
      ],
      "execution_count": 131,
      "outputs": [
        {
          "output_type": "display_data",
          "data": {
            "image/png": "[encoded data removed]",
            "text/plain": [
              "<Figure size 1152x576 with 1 Axes>"
            ]
          },
          "metadata": {
            "tags": [],
            "needs_background": "light"
          }
        },
        {
          "output_type": "stream",
          "text": [
            "Средняя награда при Q-обучении с удвоением ставки и подсчетом около -0.1307958998560498\n"
          ],
          "name": "stdout"
        }
      ]
    },
    {
      "cell_type": "markdown",
      "metadata": {
        "id": "M6xZ3bPZpWSY"
      },
      "source": [
        "Всё равно не удается обыграть казино("
      ]
    },
    {
      "cell_type": "code",
      "metadata": {
        "id": "FSn7gK7pwNwn",
        "outputId": "78c7c502-605d-48fa-b840-a569d94051db",
        "colab": {
          "base_uri": "https://localhost:8080/"
        }
      },
      "source": [
        "# Интересно, что если просуммировать реворды всех сэмплов по действиям, \n",
        "# то выходит, что нулевое действие оказывалось более выгодным, но если всегда выбирать\n",
        "# действие ноль, то все равно не выиграть.\n",
        "\n",
        "rews = []\n",
        "for k,v in ql.Q.items():\n",
        "  rews.append(v)\n",
        "\n",
        "rews = np.array(rews)\n",
        "rews.sum(axis=0)"
      ],
      "execution_count": 135,
      "outputs": [
        {
          "output_type": "execute_result",
          "data": {
            "text/plain": [
              "array([  8.67085079, -10.10386219, -11.85612577])"
            ]
          },
          "metadata": {
            "tags": []
          },
          "execution_count": 135
        }
      ]
    },
    {
      "cell_type": "markdown",
      "metadata": {
        "id": "o4Y8un5Xel-I"
      },
      "source": [
        "##Часть четвёртая, опциональная\n",
        "\n",
        "Ну и напоследок ещё парочка опциональных заданий за дополнительные баллы.\n",
        "\n",
        "\n",
        "8.   Реализуйте поиск стратегии в блекджеке с известной моделью из первой части, решив уравнения Беллмана для V* или Q*. Для этого вам придётся сначала оценить параметры модели, т.е. вероятности переходов между состояниями.\n",
        "9.   Реализуйте вариант из второй или третьей части, в котором есть ещё возможность делать split: в случае, когда игроку пришли две одинаковые карты, он может разбить руку на две, внести ещё одну ставку и продолжать играть две руки сразу (как будто за двоих игроков). Скорее всего, обыграть казино получится только в варианте с разрешённым split’ом и подсчётом карт; если получится, это будет отличное завершение проекта!"
      ]
    },
    {
      "cell_type": "markdown",
      "metadata": {
        "id": "LIbYMJUxe4RX"
      },
      "source": [
        "Делаю только 9й пункт со сплитом"
      ]
    },
    {
      "cell_type": "code",
      "metadata": {
        "id": "bGEFW-cfc-xP"
      },
      "source": [
        "def q_learning_episode(env, ql):\n",
        "  state = env.reset()\n",
        "  final = False\n",
        "  steps = []\n",
        "  while not final:\n",
        "\n",
        "    if env.player[0] == env.player[0]:\n",
        "      state2 = state\n",
        "      env2 = env\n",
        "      env2.player = env.player\n",
        "      env2.dealer = env.dealer\n",
        "      env2.count = env.count\n",
        "      env2.deck = env.deck\n",
        "      final1 = False\n",
        "      final2 = False\n",
        "\n",
        "      while not (final1 and final2):\n",
        "\n",
        "        if env.count > 4:\n",
        "          action = 2\n",
        "        elif env.count < -3:\n",
        "          action = 0\n",
        "        else:\n",
        "          action = np.argmax(ql.get_rewards_from_Q(state))\n",
        "\n",
        "        action2 = action\n",
        "        steps.append((state, action))\n",
        "        state, reward, final1, _ = env.step(action) \n",
        "        state2, reward2, final2, _ = env.step(action2) \n",
        "        reward = reward + reward2\n",
        "      final = True\n",
        "\n",
        "    else:\n",
        "      if env.count > 4:\n",
        "        action = 2\n",
        "      elif env.count < -3:\n",
        "        action = 0\n",
        "      else:\n",
        "        action = np.argmax(ql.get_rewards_from_Q(state))\n",
        "      steps.append((state, action))\n",
        "      state, reward, final, _ = env.step(action) \n",
        "   \n",
        "  return steps, reward"
      ],
      "execution_count": 136,
      "outputs": []
    },
    {
      "cell_type": "code",
      "metadata": {
        "id": "4JRpo2zCfK9V",
        "outputId": "08b72bd9-5073-412d-ae35-a0d43fdc596d",
        "colab": {
          "base_uri": "https://localhost:8080/"
        }
      },
      "source": [
        "env = CountingDoubleBlackjackEnv()\n",
        "env.natural = True\n",
        "\n",
        "search_params = {}\n",
        "\n",
        "for e in np.linspace(0.05, 1, 10):\n",
        "  for a in np.linspace(0.0001, 0.05, 10):\n",
        "    for g in np.linspace(0.05, 1, 10):\n",
        "      ql = QL(alpha=a, epsilon=e, gamma=g)\n",
        "      reward_for_plot = []\n",
        "      cum_reward = 0\n",
        "      for n in range(3000):\n",
        "        steps, reward = q_learning_episode(env, ql)\n",
        "        ql.learn_episode(steps, reward)\n",
        "        cum_reward += reward\n",
        "        reward_for_plot.append(cum_reward/(n + 1))\n",
        "      search_params[(a, e, g)] = np.mean(reward_for_plot[100:])\n",
        "\n",
        "a, e, g = max(search_params.items(), key=operator.itemgetter(1))[0]\n",
        "print('Наиболее оптимальные параметры')\n",
        "print(a, e, g)"
      ],
      "execution_count": 82,
      "outputs": [
        {
          "output_type": "stream",
          "text": [
            "Наиболее оптимальные параметры\n",
            "0.0001 1.0 0.05\n"
          ],
          "name": "stdout"
        }
      ]
    },
    {
      "cell_type": "code",
      "metadata": {
        "id": "GMsCeXQMefrZ",
        "outputId": "942184fa-3553-4ff6-b814-9edc87393333",
        "colab": {
          "base_uri": "https://localhost:8080/",
          "height": 517
        }
      },
      "source": [
        "ql = QL(alpha=a, epsilon=e, gamma=g)\n",
        "reward_for_plot = []\n",
        "cum_reward = 0\n",
        "for n in range(100000):\n",
        "  steps, reward = q_learning_episode(env, ql)\n",
        "  ql.learn_episode(steps, reward)\n",
        "  cum_reward += reward\n",
        "  reward_for_plot.append(cum_reward/(n + 1))\n",
        "\n",
        "plt.figure(figsize=(16, 8))\n",
        "plt.plot(reward_for_plot)\n",
        "plt.xlabel('Эпизоды обучения')\n",
        "plt.ylabel('Награда')\n",
        "plt.show()\n",
        "print(\"Средняя награда при Q-обучении около\", np.mean(reward_for_plot))"
      ],
      "execution_count": 137,
      "outputs": [
        {
          "output_type": "display_data",
          "data": {
            "image/png": "[encoded data removed]",
            "text/plain": [
              "<Figure size 1152x576 with 1 Axes>"
            ]
          },
          "metadata": {
            "tags": [],
            "needs_background": "light"
          }
        },
        {
          "output_type": "stream",
          "text": [
            "Средняя награда при Q-обучении около -0.695067457810615\n"
          ],
          "name": "stdout"
        }
      ]
    },
    {
      "cell_type": "markdown",
      "metadata": {
        "id": "sQoar_8Ty3yB"
      },
      "source": [
        "Ну тут явно я что-то не так делаю."
      ]
    },
    {
      "cell_type": "code",
      "metadata": {
        "id": "RfZwT9A4frXU"
      },
      "source": [
        ""
      ],
      "execution_count": null,
      "outputs": []
    }
  ]
}